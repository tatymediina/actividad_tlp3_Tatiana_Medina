{
 "cells": [
  {
   "cell_type": "markdown",
   "id": "498731c6",
   "metadata": {},
   "source": [
    "# Actividad - Trabajando con Series de Pandas.\n",
    "## Criterios de evaluación.\n",
    "\n",
    "* Se deben utilizar nombres de variables descriptivos y claros (Utilizar la nomeclatura correspondiente para los nombres de variables).\n",
    "* Comentarios claros y concisos que expliquen el propósito de cada sección del código.\n",
    "* Utilizar mensajes de commit **descriptivos**. (Puedes utilizar la extension CONVENTIONAL COMMIT de VS-CODE). \n",
    "* Entrega en tiempo y forma.\n",
    "* Todo el código desarrollado debe ser subido a un repositorio en GitHub (el nombre del repositorio de seguir la siguiente estructura: actividad_tlp3_nombre_apellido).\n",
    "* Para resolver las actividades se debe insertar casillas de codigo entre cada actividad del cuaderno de Jupyter\n",
    "\n",
    "### ¡Importante!\n",
    "**El incumplimiento de los criterios de evaluación restará puntos en la nota final del práctico!**"
   ]
  },
  {
   "cell_type": "markdown",
   "id": "b361a7b6",
   "metadata": {},
   "source": [
    "### **Actividad 1:** \n",
    "\n",
    "Crear Series desde diferentes estructuras.\n",
    "* Crea una Series con los números del 1 al 5\n",
    "* Crea una Series a partir de un diccionario con nombres de países como claves y sus capitales como valores."
   ]
  },
  {
   "cell_type": "code",
   "execution_count": 3,
   "id": "3b8ccaab",
   "metadata": {},
   "outputs": [],
   "source": [
    "from pandas import Series"
   ]
  },
  {
   "cell_type": "code",
   "execution_count": 4,
   "id": "26009294",
   "metadata": {},
   "outputs": [],
   "source": [
    "\n",
    "# todo:\n",
    "\n",
    "lista = [1,2,3,4,5]\n",
    "\n",
    "serie_uno = Series(lista)"
   ]
  },
  {
   "cell_type": "code",
   "execution_count": null,
   "id": "9e111b87",
   "metadata": {},
   "outputs": [
    {
     "data": {
      "text/plain": [
       "Finlandia             Helsink\n",
       "Corea del Sur            Seul\n",
       "Argentina        Buenos Aires\n",
       "Suiza                   Berna\n",
       "Tailandia             Bangkok\n",
       "dtype: object"
      ]
     },
     "execution_count": 5,
     "metadata": {},
     "output_type": "execute_result"
    }
   ],
   "source": [
    "dic_paises = { \n",
    "    \"Finlandia\": \"Helsink\", \n",
    "    \"Corea del Sur\" : \"Seul\",\n",
    "    \"Argentina\": \"Buenos Aires\", \n",
    "    \"Suiza\": \"Berna\", \n",
    "    \"Tailandia\": \"Bangkok\" \n",
    "}\n",
    "\n",
    "serie_dos = Series(dic_paises)\n",
    "serie_dos"
   ]
  },
  {
   "cell_type": "markdown",
   "id": "0c239195",
   "metadata": {},
   "source": [
    "### **Actividad 2:** \n",
    "Acceso y selección de elementos.\n",
    "* Usa una Series con tareas (que haceres cotidianos) de una semana\n",
    "* Accede a diferentes elementos a elección.\n",
    "* Cambia los valores de los dias pares.\n"
   ]
  },
  {
   "cell_type": "code",
   "execution_count": null,
   "id": "3611d25a",
   "metadata": {},
   "outputs": [
    {
     "data": {
      "text/plain": [
       "Lunes              Lavar la ropa\n",
       "Martes                   Cocinar\n",
       "Miercoles       Practicar python\n",
       "Jueves           Hacer ejercicio\n",
       "Viernes      Limpiar el alquiler\n",
       "Sábado             Leer un libro\n",
       "Domingo            Ver una serie\n",
       "dtype: object"
      ]
     },
     "execution_count": 37,
     "metadata": {},
     "output_type": "execute_result"
    }
   ],
   "source": [
    "\n",
    "# todo:\n",
    "\n",
    "dic_tareas = { \n",
    "    \"Lunes\": \"Lavar la ropa\",\n",
    "    \"Martes\": \"Cocinar\", \n",
    "    \"Miercoles\": \"Practicar python\", \n",
    "    \"Jueves\": \"Hacer ejercicio\", \n",
    "    \"Viernes\": \"Limpiar el alquiler\", \n",
    "    \"Sábado\": \"Leer un libro\", \n",
    "    \"Domingo\": \"Ver una serie\"\n",
    "}\n",
    "\n",
    "serie_tres = Series(dic_tareas)\n",
    "serie_tres"
   ]
  },
  {
   "cell_type": "code",
   "execution_count": 7,
   "id": "d736bef9",
   "metadata": {},
   "outputs": [
    {
     "name": "stdout",
     "output_type": "stream",
     "text": [
      "Leer un libro\n",
      "Cocinar\n",
      "Ver una serie\n"
     ]
    }
   ],
   "source": [
    "print(serie_tres[\"Sábado\"])\n",
    "print(serie_tres[\"Martes\"])\n",
    "print(serie_tres[\"Domingo\"])"
   ]
  },
  {
   "cell_type": "code",
   "execution_count": 8,
   "id": "71bd20b7",
   "metadata": {},
   "outputs": [
    {
     "name": "stdout",
     "output_type": "stream",
     "text": [
      "Limpiar la pieza\n",
      "Llamar a mi abuelo\n",
      "Dormir\n"
     ]
    }
   ],
   "source": [
    "serie_tres[\"Martes\"] = \"Limpiar la pieza\"\n",
    "serie_tres[\"Jueves\"] = \"Llamar a mi abuelo\"\n",
    "serie_tres[\"Sábado\"] = \"Dormir\"\n",
    "\n",
    "print(serie_tres[\"Martes\"])\n",
    "print(serie_tres[\"Jueves\"])\n",
    "print(serie_tres[\"Sábado\"])"
   ]
  },
  {
   "cell_type": "markdown",
   "id": "70a24b97",
   "metadata": {},
   "source": [
    "### **Actividad 3:**\n",
    "Operaciones aritméticas. \n",
    "* Realiza las operaciones basicas con 2 series cuales quieran.\n",
    "* Eleva los valores de la primer serie a 3 potencias difetentes."
   ]
  },
  {
   "cell_type": "code",
   "execution_count": 10,
   "id": "a9c8ebc7",
   "metadata": {},
   "outputs": [
    {
     "name": "stdout",
     "output_type": "stream",
     "text": [
      "0    12\n",
      "1    14\n",
      "2    16\n",
      "3    18\n",
      "4    20\n",
      "dtype: int64\n",
      "0     2\n",
      "1     6\n",
      "2    10\n",
      "3    14\n",
      "4    18\n",
      "dtype: int64\n"
     ]
    }
   ],
   "source": [
    "# todo:\n",
    "\n",
    "serie_cuatro = Series([2,4,6,8,10])\n",
    "serie_cinco = Series([1,3,5,7,9])\n",
    "\n",
    "\n",
    "# * Operaciones\n",
    "\n",
    "print(serie_cuatro + 10)\n",
    "print(serie_cinco * 2)\n"
   ]
  },
  {
   "cell_type": "code",
   "execution_count": 11,
   "id": "d4168d00",
   "metadata": {},
   "outputs": [
    {
     "name": "stdout",
     "output_type": "stream",
     "text": [
      "0     1\n",
      "1     4\n",
      "2     9\n",
      "3    16\n",
      "4    25\n",
      "dtype: int64\n",
      "0      1\n",
      "1     16\n",
      "2     81\n",
      "3    256\n",
      "4    625\n",
      "dtype: int64\n",
      "0        1\n",
      "1       64\n",
      "2      729\n",
      "3     4096\n",
      "4    15625\n",
      "dtype: int64\n"
     ]
    }
   ],
   "source": [
    "print(serie_uno ** 2)\n",
    "print(serie_uno ** 4)\n",
    "print(serie_uno ** 6)"
   ]
  },
  {
   "cell_type": "markdown",
   "id": "b8dac397",
   "metadata": {},
   "source": [
    "### **Actividad 4:** \n",
    "Filtrado con condiciones.\n",
    "* Crea una Series de edades de 10 personas.\n",
    "* Muestra solo a los mayores de 18.\n",
    "* Reemplaza a los menores por \"Menor de edad\"."
   ]
  },
  {
   "cell_type": "code",
   "execution_count": 16,
   "id": "d04fd492",
   "metadata": {},
   "outputs": [
    {
     "data": {
      "text/plain": [
       "Tatiana    19\n",
       "Ailin      27\n",
       "Selene     19\n",
       "Maribel    16\n",
       "Soledad    20\n",
       "Maia       19\n",
       "Salomé     17\n",
       "Mariano    22\n",
       "Luciano    10\n",
       "Paulina     6\n",
       "Mia        12\n",
       "dtype: int64"
      ]
     },
     "execution_count": 16,
     "metadata": {},
     "output_type": "execute_result"
    }
   ],
   "source": [
    "\n",
    "# todo:\n",
    "\n",
    "dic_edades = {\n",
    "    \"Tatiana\": 19,\n",
    "    \"Ailin\": 27,\n",
    "    \"Selene\": 19,\n",
    "    \"Maribel\": 16,\n",
    "    \"Soledad\":20,\n",
    "    \"Maia\": 19,\n",
    "    \"Salomé\": 17,\n",
    "    \"Mariano\": 22,\n",
    "    \"Luciano\": 10,\n",
    "    \"Paulina\": 6,\n",
    "    \"Mia\": 12 \n",
    "}\n",
    "\n",
    "serie_seis = Series(dic_edades)\n",
    "serie_seis"
   ]
  },
  {
   "cell_type": "code",
   "execution_count": 18,
   "id": "c53a154d",
   "metadata": {},
   "outputs": [
    {
     "data": {
      "text/plain": [
       "Tatiana    19\n",
       "Ailin      27\n",
       "Selene     19\n",
       "Soledad    20\n",
       "Maia       19\n",
       "Mariano    22\n",
       "dtype: int64"
      ]
     },
     "execution_count": 18,
     "metadata": {},
     "output_type": "execute_result"
    }
   ],
   "source": [
    "personas_mayores_18 = serie_seis[serie_seis > 18]\n",
    "personas_mayores_18"
   ]
  },
  {
   "cell_type": "code",
   "execution_count": 21,
   "id": "1a53a60a",
   "metadata": {},
   "outputs": [
    {
     "data": {
      "text/plain": [
       "Tatiana               19\n",
       "Ailin                 27\n",
       "Selene                19\n",
       "Maribel    Menor de edad\n",
       "Soledad               20\n",
       "Maia                  19\n",
       "Salomé     Menor de edad\n",
       "Mariano               22\n",
       "Luciano    Menor de edad\n",
       "Paulina    Menor de edad\n",
       "Mia        Menor de edad\n",
       "dtype: object"
      ]
     },
     "execution_count": 21,
     "metadata": {},
     "output_type": "execute_result"
    }
   ],
   "source": [
    "personas_etiqueta = serie_seis.where(serie_seis >= 18, \"Menor de edad\")\n",
    "personas_etiqueta "
   ]
  },
  {
   "cell_type": "markdown",
   "id": "8889d0f2",
   "metadata": {},
   "source": [
    "### Actividad 5:\n",
    "Estadísticas básicas.\n",
    "\n",
    "* Crea una Series con las notas de 10 estudiantes.\n",
    "* Calcula la media, mediana, desviación estándar y máximo.\n",
    "* Muestra cuántos estudiantes aprobaron si el mínimo para aprobar es 6.\n",
    "* Ordenar las notas de manera ascendente y descendente. "
   ]
  },
  {
   "cell_type": "code",
   "execution_count": 26,
   "id": "bc0ec844",
   "metadata": {},
   "outputs": [
    {
     "data": {
      "text/plain": [
       "María       8\n",
       "Juan        8\n",
       "Pedro       9\n",
       "Pablo       5\n",
       "Karen       6\n",
       "Laia        8\n",
       "Miguel      7\n",
       "Sofia       9\n",
       "Diego       8\n",
       "Lautaro    10\n",
       "dtype: int64"
      ]
     },
     "execution_count": 26,
     "metadata": {},
     "output_type": "execute_result"
    }
   ],
   "source": [
    "\n",
    "# todo:\n",
    "\n",
    "dic_notas ={\n",
    "    \"María\": 8,\n",
    "    \"Juan\": 8,\n",
    "    \"Pedro\": 9,\n",
    "    \"Pablo\":5,\n",
    "    \"Karen\": 6,\n",
    "    \"Laia\": 8,\n",
    "    \"Miguel\": 7,\n",
    "    \"Sofia\": 9,\n",
    "    \"Diego\": 8,\n",
    "    \"Lautaro\":10 \n",
    "}\n",
    "\n",
    "serie_siete = Series(dic_notas)\n",
    "serie_siete\n"
   ]
  },
  {
   "cell_type": "code",
   "execution_count": 28,
   "id": "a6c58f17",
   "metadata": {},
   "outputs": [
    {
     "name": "stdout",
     "output_type": "stream",
     "text": [
      "La media es 7.8\n",
      "La mediana es 8.0\n",
      "La desviación estandard es 1.4757295747452437\n",
      "El valor máximo es 10\n"
     ]
    }
   ],
   "source": [
    "media = serie_siete.mean()\n",
    "mediana = serie_siete.median()\n",
    "std = serie_siete.std()\n",
    "maximo = serie_siete.max()\n",
    "\n",
    "\n",
    "print(f\"La media es {media}\")\n",
    "print(f\"La mediana es {mediana}\")\n",
    "print(f\"La desviación estandard es {std}\")\n",
    "print(f\"El valor máximo es {maximo}\")"
   ]
  },
  {
   "cell_type": "code",
   "execution_count": null,
   "id": "dcb897f6",
   "metadata": {},
   "outputs": [
    {
     "data": {
      "text/plain": [
       "María       8\n",
       "Juan        8\n",
       "Pedro       9\n",
       "Karen       6\n",
       "Laia        8\n",
       "Miguel      7\n",
       "Sofia       9\n",
       "Diego       8\n",
       "Lautaro    10\n",
       "dtype: int64"
      ]
     },
     "execution_count": 30,
     "metadata": {},
     "output_type": "execute_result"
    }
   ],
   "source": [
    "aprobados = serie_siete[serie_siete >= 6]\n",
    "aprobados "
   ]
  },
  {
   "cell_type": "code",
   "execution_count": 32,
   "id": "827858bc",
   "metadata": {},
   "outputs": [
    {
     "name": "stdout",
     "output_type": "stream",
     "text": [
      "cantidad de estudiantes aprobados: 9\n"
     ]
    }
   ],
   "source": [
    "cant_aprobados = (serie_siete >=6).sum()\n",
    "print(f\"cantidad de estudiantes aprobados: {cant_aprobados}\")"
   ]
  },
  {
   "cell_type": "code",
   "execution_count": 35,
   "id": "3d8df6fb",
   "metadata": {},
   "outputs": [
    {
     "data": {
      "text/plain": [
       "Pablo       5\n",
       "Karen       6\n",
       "Miguel      7\n",
       "María       8\n",
       "Laia        8\n",
       "Juan        8\n",
       "Diego       8\n",
       "Pedro       9\n",
       "Sofia       9\n",
       "Lautaro    10\n",
       "dtype: int64"
      ]
     },
     "execution_count": 35,
     "metadata": {},
     "output_type": "execute_result"
    }
   ],
   "source": [
    "\n",
    "# * Ascendente\n",
    "\n",
    "notas_ascendente = serie_siete.sort_values()\n",
    "notas_ascendente\n"
   ]
  },
  {
   "cell_type": "code",
   "execution_count": 36,
   "id": "14ebac92",
   "metadata": {},
   "outputs": [
    {
     "data": {
      "text/plain": [
       "Lautaro    10\n",
       "Pedro       9\n",
       "Sofia       9\n",
       "María       8\n",
       "Juan        8\n",
       "Laia        8\n",
       "Diego       8\n",
       "Miguel      7\n",
       "Karen       6\n",
       "Pablo       5\n",
       "dtype: int64"
      ]
     },
     "execution_count": 36,
     "metadata": {},
     "output_type": "execute_result"
    }
   ],
   "source": [
    "# * Descendente\n",
    "\n",
    "notas_descendente = serie_siete.sort_values(ascending = False)\n",
    "notas_descendente"
   ]
  }
 ],
 "metadata": {
  "kernelspec": {
   "display_name": "env",
   "language": "python",
   "name": "python3"
  },
  "language_info": {
   "codemirror_mode": {
    "name": "ipython",
    "version": 3
   },
   "file_extension": ".py",
   "mimetype": "text/x-python",
   "name": "python",
   "nbconvert_exporter": "python",
   "pygments_lexer": "ipython3",
   "version": "3.12.9"
  }
 },
 "nbformat": 4,
 "nbformat_minor": 5
}
